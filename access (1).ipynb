{
 "cells": [
  {
   "cell_type": "code",
   "execution_count": 57,
   "id": "infectious-webster",
   "metadata": {},
   "outputs": [],
   "source": [
    "from collections import Counter\n",
    "import matplotlib.pyplot as plt\n",
    "import pandas as pd"
   ]
  },
  {
   "cell_type": "code",
   "execution_count": 58,
   "id": "monthly-standard",
   "metadata": {},
   "outputs": [
    {
     "name": "stdout",
     "output_type": "stream",
     "text": [
      "98.76.54.32 - - [26/Jun/2023:08:24:29] \"GET /https://www.twitter.com HTTP/1.1\" 200 - \"Mozilla/5.0 (Windows NT 10.0; Win64; x64) AppleWebKit/537.36 (KHTML, like Gecko) Chrome/58.0.3029.110 Safari/537.3\"\n",
      "123.45.67.89 - - [26/Jun/2023:08:24:29] \"GET /https://www.facebook.com HTTP/1.1\" 200 - \"Mozilla/5.0 (Windows NT 10.0; Win64; x64) AppleWebKit/537.36 (KHTML, like Gecko) Chrome/58.0.3029.110 Safari/537.3\"\n",
      "104.236.218.124 - - [26/Jun/2023:08:24:29] \"GET /https://www.netflix.com HTTP/1.1\" 200 - \"Mozilla/5.0 (Windows NT 10.0; Win64; x64) AppleWebKit/537.36 (KHTML, like Gecko) Chrome/58.0.3029.110 Safari/537.3\"\n",
      "72.21.215.90 - - [26/Jun/2023:08:24:29] \"GET /https://www.linkedin.com HTTP/1.1\" 200 - \"Mozilla/5.0 (Windows NT 10.0; Win64; x64) AppleWebKit/537.36 (KHTML, like Gecko) Chrome/58.0.3029.110 Safari/537.3\"\n",
      "54.32.10.98 - - [26/Jun/2023:08:24:29] \"GET /https://www.google.com HTTP/1.1\" 200 - \"Mozilla/5.0 (Windows NT 10.0; Win64; x64) AppleWebKit/537.36 (KHTML, like Gecko) Chrome/58.0.3029.110 Safari/537.3\"\n",
      "172.217.20.142 - - [26/Jun/2023:08:24:29] \"GET /https://www.github.com HTTP/1.1\" 200 - \"Mozilla/5.0 (Windows NT 10.0; Win64; x64) AppleWebKit/537.36 (KHTML, like Gecko) Chrome/58.0.3029.110 Safari/537.3\"\n",
      "12.34.56.78 - - [26/Jun/2023:08:24:29] \"GET /https://www.facebook.com HTTP/1.1\" 200 - \"Mozilla/5.0 (Windows NT 10.0; Win64; x64) AppleWebKit/537.36 (KHTML, like Gecko) Chrome/58.0.3029.110 Safari/537.3\"\n",
      "72.21.215.90 - - [26/Jun/2023:08:24:29] \"GET /https://www.github.com HTTP/1.1\" 200 - \"Mozilla/5.0 (Windows NT 10.0; Win64; x64) AppleWebKit/537.36 (KHTML, like Gecko) Chrome/58.0.3029.110 Safari/537.3\"\n",
      "185.199.111.153 - - [26/Jun/2023:08:24:29] \"GET /https://www.amazon.com HTTP/1.1\" 200 - \"Mozilla/5.0 (Windows NT 10.0; Win64; x64) AppleWebKit/537.36 (KHTML, like Gecko) Chrome/58.0.3029.110 Safari/537.3\"\n",
      "98.76.54.32 - - [26/Jun/2023:08:24:29] \"GET /https://www.github.com HTTP/1.1\" 200 - \"Mozilla/5.0 (Windows NT 10.0; Win64; x64) AppleWebKit/537.36 (KHTML, like Gecko) Chrome/58.0.3029.110 Safari/537.3\"\n",
      "54.32.10.98 - - [26/Jun/2023:08:24:29] \"GET /https://www.linkedin.com HTTP/1.1\" 200 - \"Mozilla/5.0 (Windows NT 10.0; Win64; x64) AppleWebKit/537.36 (KHTML, like Gecko) Chrome/58.0.3029.110 Safari/537.3\"\n",
      "104.236.218.124 - - [26/Jun/2023:08:24:29] \"GET /https://www.instagram.com HTTP/1.1\" 200 - \"Mozilla/5.0 (Windows NT 10.0; Win64; x64) AppleWebKit/537.36 (KHTML, like Gecko) Chrome/58.0.3029.110 Safari/537.3\"\n",
      "123.45.67.89 - - [26/Jun/2023:08:24:29] \"GET /https://www.instagram.com HTTP/1.1\" 200 - \"Mozilla/5.0 (Windows NT 10.0; Win64; x64) AppleWebKit/537.36 (KHTML, like Gecko) Chrome/58.0.3029.110 Safari/537.3\"\n",
      "104.236.218.124 - - [26/Jun/2023:08:24:29] \"GET /https://www.facebook.com HTTP/1.1\" 200 - \"Mozilla/5.0 (Windows NT 10.0; Win64; x64) AppleWebKit/537.36 (KHTML, like Gecko) Chrome/58.0.3029.110 Safari/537.3\"\n",
      "172.217.20.142 - - [26/Jun/2023:08:24:29] \"GET /https://www.netflix.com HTTP/1.1\" 200 - \"Mozilla/5.0 (Windows NT 10.0; Win64; x64) AppleWebKit/537.36 (KHTML, like Gecko) Chrome/58.0.3029.110 Safari/537.3\"\n",
      "123.45.67.89 - - [26/Jun/2023:08:24:29] \"GET /https://www.twitter.com HTTP/1.1\" 200 - \"Mozilla/5.0 (Windows NT 10.0; Win64; x64) AppleWebKit/537.36 (KHTML, like Gecko) Chrome/58.0.3029.110 Safari/537.3\"\n",
      "98.76.54.32 - - [26/Jun/2023:08:24:29] \"GET /https://www.instagram.com HTTP/1.1\" 200 - \"Mozilla/5.0 (Windows NT 10.0; Win64; x64) AppleWebKit/537.36 (KHTML, like Gecko) Chrome/58.0.3029.110 Safari/537.3\"\n",
      "87.65.43.21 - - [26/Jun/2023:08:24:29] \"GET /https://www.instagram.com HTTP/1.1\" 200 - \"Mozilla/5.0 (Windows NT 10.0; Win64; x64) AppleWebKit/537.36 (KHTML, like Gecko) Chrome/58.0.3029.110 Safari/537.3\"\n",
      "172.217.20.142 - - [26/Jun/2023:08:24:29] \"GET /https://www.netflix.com HTTP/1.1\" 200 - \"Mozilla/5.0 (Windows NT 10.0; Win64; x64) AppleWebKit/537.36 (KHTML, like Gecko) Chrome/58.0.3029.110 Safari/537.3\"\n",
      "172.217.20.142 - - [26/Jun/2023:08:24:29] \"GET /https://www.linkedin.com HTTP/1.1\" 200 - \"Mozilla/5.0 (Windows NT 10.0; Win64; x64) AppleWebKit/537.36 (KHTML, like Gecko) Chrome/58.0.3029.110 Safari/537.3\"\n",
      "54.32.10.98 - - [26/Jun/2023:08:24:29] \"GET /https://www.amazon.com HTTP/1.1\" 200 - \"Mozilla/5.0 (Windows NT 10.0; Win64; x64) AppleWebKit/537.36 (KHTML, like Gecko) Chrome/58.0.3029.110 Safari/537.3\"\n",
      "123.45.67.89 - - [26/Jun/2023:08:24:29] \"GET /https://www.facebook.com HTTP/1.1\" 200 - \"Mozilla/5.0 (Windows NT 10.0; Win64; x64) AppleWebKit/537.36 (KHTML, like Gecko) Chrome/58.0.3029.110 Safari/537.3\"\n",
      "72.21.215.90 - - [26/Jun/2023:08:24:29] \"GET /https://www.instagram.com HTTP/1.1\" 200 - \"Mozilla/5.0 (Windows NT 10.0; Win64; x64) AppleWebKit/537.36 (KHTML, like Gecko) Chrome/58.0.3029.110 Safari/537.3\"\n",
      "54.32.10.98 - - [26/Jun/2023:08:24:29] \"GET /https://www.google.com HTTP/1.1\" 200 - \"Mozilla/5.0 (Windows NT 10.0; Win64; x64) AppleWebKit/537.36 (KHTML, like Gecko) Chrome/58.0.3029.110 Safari/537.3\"\n",
      "87.65.43.21 - - [26/Jun/2023:08:24:29] \"GET /https://www.twitter.com HTTP/1.1\" 200 - \"Mozilla/5.0 (Windows NT 10.0; Win64; x64) AppleWebKit/537.36 (KHTML, like Gecko) Chrome/58.0.3029.110 Safari/537.3\"\n",
      "172.217.20.142 - - [26/Jun/2023:08:24:29] \"GET /https://www.instagram.com HTTP/1.1\" 200 - \"Mozilla/5.0 (Windows NT 10.0; Win64; x64) AppleWebKit/537.36 (KHTML, like Gecko) Chrome/58.0.3029.110 Safari/537.3\"\n",
      "203.0.113.42 - - [26/Jun/2023:08:24:29] \"GET /https://www.facebook.com HTTP/1.1\" 200 - \"Mozilla/5.0 (Windows NT 10.0; Win64; x64) AppleWebKit/537.36 (KHTML, like Gecko) Chrome/58.0.3029.110 Safari/537.3\"\n",
      "185.199.111.153 - - [26/Jun/2023:08:24:29] \"GET /https://www.twitter.com HTTP/1.1\" 200 - \"Mozilla/5.0 (Windows NT 10.0; Win64; x64) AppleWebKit/537.36 (KHTML, like Gecko) Chrome/58.0.3029.110 Safari/537.3\"\n",
      "54.32.10.98 - - [26/Jun/2023:08:24:29] \"GET /https://www.facebook.com HTTP/1.1\" 200 - \"Mozilla/5.0 (Windows NT 10.0; Win64; x64) AppleWebKit/537.36 (KHTML, like Gecko) Chrome/58.0.3029.110 Safari/537.3\"\n",
      "203.0.113.42 - - [26/Jun/2023:08:24:29] \"GET /https://www.instagram.com HTTP/1.1\" 200 - \"Mozilla/5.0 (Windows NT 10.0; Win64; x64) AppleWebKit/537.36 (KHTML, like Gecko) Chrome/58.0.3029.110 Safari/537.3\"\n",
      "87.65.43.21 - - [26/Jun/2023:08:24:29] \"GET /https://www.github.com HTTP/1.1\" 200 - \"Mozilla/5.0 (Windows NT 10.0; Win64; x64) AppleWebKit/537.36 (KHTML, like Gecko) Chrome/58.0.3029.110 Safari/537.3\"\n",
      "104.236.218.124 - - [26/Jun/2023:08:24:29] \"GET /https://www.github.com HTTP/1.1\" 200 - \"Mozilla/5.0 (Windows NT 10.0; Win64; x64) AppleWebKit/537.36 (KHTML, like Gecko) Chrome/58.0.3029.110 Safari/537.3\"\n",
      "203.0.113.42 - - [26/Jun/2023:08:24:29] \"GET /https://www.linkedin.com HTTP/1.1\" 200 - \"Mozilla/5.0 (Windows NT 10.0; Win64; x64) AppleWebKit/537.36 (KHTML, like Gecko) Chrome/58.0.3029.110 Safari/537.3\"\n",
      "104.236.218.124 - - [26/Jun/2023:08:24:29] \"GET /https://www.youtube.com HTTP/1.1\" 200 - \"Mozilla/5.0 (Windows NT 10.0; Win64; x64) AppleWebKit/537.36 (KHTML, like Gecko) Chrome/58.0.3029.110 Safari/537.3\"\n",
      "87.65.43.21 - - [26/Jun/2023:08:24:29] \"GET /https://www.google.com HTTP/1.1\" 200 - \"Mozilla/5.0 (Windows NT 10.0; Win64; x64) AppleWebKit/537.36 (KHTML, like Gecko) Chrome/58.0.3029.110 Safari/537.3\"\n",
      "185.199.111.153 - - [26/Jun/2023:08:24:29] \"GET /https://www.google.com HTTP/1.1\" 200 - \"Mozilla/5.0 (Windows NT 10.0; Win64; x64) AppleWebKit/537.36 (KHTML, like Gecko) Chrome/58.0.3029.110 Safari/537.3\"\n",
      "185.199.111.153 - - [26/Jun/2023:08:24:29] \"GET /https://www.linkedin.com HTTP/1.1\" 200 - \"Mozilla/5.0 (Windows NT 10.0; Win64; x64) AppleWebKit/537.36 (KHTML, like Gecko) Chrome/58.0.3029.110 Safari/537.3\"\n",
      "12.34.56.78 - - [26/Jun/2023:08:24:29] \"GET /https://www.twitter.com HTTP/1.1\" 200 - \"Mozilla/5.0 (Windows NT 10.0; Win64; x64) AppleWebKit/537.36 (KHTML, like Gecko) Chrome/58.0.3029.110 Safari/537.3\"\n",
      "54.32.10.98 - - [26/Jun/2023:08:24:29] \"GET /https://www.youtube.com HTTP/1.1\" 200 - \"Mozilla/5.0 (Windows NT 10.0; Win64; x64) AppleWebKit/537.36 (KHTML, like Gecko) Chrome/58.0.3029.110 Safari/537.3\"\n",
      "104.236.218.124 - - [26/Jun/2023:08:24:29] \"GET /https://www.youtube.com HTTP/1.1\" 200 - \"Mozilla/5.0 (Windows NT 10.0; Win64; x64) AppleWebKit/537.36 (KHTML, like Gecko) Chrome/58.0.3029.110 Safari/537.3\"\n",
      "12.34.56.78 - - [26/Jun/2023:08:24:29] \"GET /https://www.twitter.com HTTP/1.1\" 200 - \"Mozilla/5.0 (Windows NT 10.0; Win64; x64) AppleWebKit/537.36 (KHTML, like Gecko) Chrome/58.0.3029.110 Safari/537.3\"\n",
      "12.34.56.78 - - [26/Jun/2023:08:24:29] \"GET /https://www.youtube.com HTTP/1.1\" 200 - \"Mozilla/5.0 (Windows NT 10.0; Win64; x64) AppleWebKit/537.36 (KHTML, like Gecko) Chrome/58.0.3029.110 Safari/537.3\"\n",
      "203.0.113.42 - - [26/Jun/2023:08:24:29] \"GET /https://www.instagram.com HTTP/1.1\" 200 - \"Mozilla/5.0 (Windows NT 10.0; Win64; x64) AppleWebKit/537.36 (KHTML, like Gecko) Chrome/58.0.3029.110 Safari/537.3\"\n",
      "98.76.54.32 - - [26/Jun/2023:08:24:29] \"GET /https://www.twitter.com HTTP/1.1\" 200 - \"Mozilla/5.0 (Windows NT 10.0; Win64; x64) AppleWebKit/537.36 (KHTML, like Gecko) Chrome/58.0.3029.110 Safari/537.3\"\n",
      "185.199.111.153 - - [26/Jun/2023:08:24:29] \"GET /https://www.instagram.com HTTP/1.1\" 200 - \"Mozilla/5.0 (Windows NT 10.0; Win64; x64) AppleWebKit/537.36 (KHTML, like Gecko) Chrome/58.0.3029.110 Safari/537.3\"\n",
      "172.217.20.142 - - [26/Jun/2023:08:24:29] \"GET /https://www.twitter.com HTTP/1.1\" 200 - \"Mozilla/5.0 (Windows NT 10.0; Win64; x64) AppleWebKit/537.36 (KHTML, like Gecko) Chrome/58.0.3029.110 Safari/537.3\"\n",
      "185.199.111.153 - - [26/Jun/2023:08:24:29] \"GET /https://www.twitter.com HTTP/1.1\" 200 - \"Mozilla/5.0 (Windows NT 10.0; Win64; x64) AppleWebKit/537.36 (KHTML, like Gecko) Chrome/58.0.3029.110 Safari/537.3\"\n",
      "87.65.43.21 - - [26/Jun/2023:08:24:29] \"GET /https://www.netflix.com HTTP/1.1\" 200 - \"Mozilla/5.0 (Windows NT 10.0; Win64; x64) AppleWebKit/537.36 (KHTML, like Gecko) Chrome/58.0.3029.110 Safari/537.3\"\n",
      "203.0.113.42 - - [26/Jun/2023:08:24:29] \"GET /https://www.github.com HTTP/1.1\" 200 - \"Mozilla/5.0 (Windows NT 10.0; Win64; x64) AppleWebKit/537.36 (KHTML, like Gecko) Chrome/58.0.3029.110 Safari/537.3\"\n",
      "185.199.111.153 - - [26/Jun/2023:08:24:29] \"GET /https://www.youtube.com HTTP/1.1\" 200 - \"Mozilla/5.0 (Windows NT 10.0; Win64; x64) AppleWebKit/537.36 (KHTML, like Gecko) Chrome/58.0.3029.110 Safari/537.3\"\n",
      "203.0.113.42 - - [26/Jun/2023:08:24:29] \"GET /https://www.twitter.com HTTP/1.1\" 200 - \"Mozilla/5.0 (Windows NT 10.0; Win64; x64) AppleWebKit/537.36 (KHTML, like Gecko) Chrome/58.0.3029.110 Safari/537.3\"\n",
      "72.21.215.90 - - [26/Jun/2023:08:24:29] \"GET /https://www.amazon.com HTTP/1.1\" 200 - \"Mozilla/5.0 (Windows NT 10.0; Win64; x64) AppleWebKit/537.36 (KHTML, like Gecko) Chrome/58.0.3029.110 Safari/537.3\"\n",
      "54.32.10.98 - - [26/Jun/2023:08:24:29] \"GET /https://www.twitter.com HTTP/1.1\" 200 - \"Mozilla/5.0 (Windows NT 10.0; Win64; x64) AppleWebKit/537.36 (KHTML, like Gecko) Chrome/58.0.3029.110 Safari/537.3\"\n",
      "104.236.218.124 - - [26/Jun/2023:08:24:29] \"GET /https://www.google.com HTTP/1.1\" 200 - \"Mozilla/5.0 (Windows NT 10.0; Win64; x64) AppleWebKit/537.36 (KHTML, like Gecko) Chrome/58.0.3029.110 Safari/537.3\"\n",
      "172.217.20.142 - - [26/Jun/2023:08:24:29] \"GET /https://www.github.com HTTP/1.1\" 200 - \"Mozilla/5.0 (Windows NT 10.0; Win64; x64) AppleWebKit/537.36 (KHTML, like Gecko) Chrome/58.0.3029.110 Safari/537.3\"\n",
      "98.76.54.32 - - [26/Jun/2023:08:24:29] \"GET /https://www.netflix.com HTTP/1.1\" 200 - \"Mozilla/5.0 (Windows NT 10.0; Win64; x64) AppleWebKit/537.36 (KHTML, like Gecko) Chrome/58.0.3029.110 Safari/537.3\"\n",
      "185.199.111.153 - - [26/Jun/2023:08:24:29] \"GET /https://www.youtube.com HTTP/1.1\" 200 - \"Mozilla/5.0 (Windows NT 10.0; Win64; x64) AppleWebKit/537.36 (KHTML, like Gecko) Chrome/58.0.3029.110 Safari/537.3\"\n",
      "12.34.56.78 - - [26/Jun/2023:08:24:29] \"GET /https://www.google.com HTTP/1.1\" 200 - \"Mozilla/5.0 (Windows NT 10.0; Win64; x64) AppleWebKit/537.36 (KHTML, like Gecko) Chrome/58.0.3029.110 Safari/537.3\"\n",
      "87.65.43.21 - - [26/Jun/2023:08:24:29] \"GET /https://www.facebook.com HTTP/1.1\" 200 - \"Mozilla/5.0 (Windows NT 10.0; Win64; x64) AppleWebKit/537.36 (KHTML, like Gecko) Chrome/58.0.3029.110 Safari/537.3\"\n",
      "98.76.54.32 - - [26/Jun/2023:08:24:29] \"GET /https://www.instagram.com HTTP/1.1\" 200 - \"Mozilla/5.0 (Windows NT 10.0; Win64; x64) AppleWebKit/537.36 (KHTML, like Gecko) Chrome/58.0.3029.110 Safari/537.3\"\n",
      "98.76.54.32 - - [26/Jun/2023:08:24:29] \"GET /https://www.twitter.com HTTP/1.1\" 200 - \"Mozilla/5.0 (Windows NT 10.0; Win64; x64) AppleWebKit/537.36 (KHTML, like Gecko) Chrome/58.0.3029.110 Safari/537.3\"\n",
      "72.21.215.90 - - [26/Jun/2023:08:24:29] \"GET /https://www.wikipedia.org HTTP/1.1\" 200 - \"Mozilla/5.0 (Windows NT 10.0; Win64; x64) AppleWebKit/537.36 (KHTML, like Gecko) Chrome/58.0.3029.110 Safari/537.3\"\n",
      "172.217.20.142 - - [26/Jun/2023:08:24:29] \"GET /https://www.twitter.com HTTP/1.1\" 200 - \"Mozilla/5.0 (Windows NT 10.0; Win64; x64) AppleWebKit/537.36 (KHTML, like Gecko) Chrome/58.0.3029.110 Safari/537.3\"\n",
      "203.0.113.42 - - [26/Jun/2023:08:24:29] \"GET /https://www.wikipedia.org HTTP/1.1\" 200 - \"Mozilla/5.0 (Windows NT 10.0; Win64; x64) AppleWebKit/537.36 (KHTML, like Gecko) Chrome/58.0.3029.110 Safari/537.3\"\n",
      "12.34.56.78 - - [26/Jun/2023:08:24:29] \"GET /https://www.google.com HTTP/1.1\" 200 - \"Mozilla/5.0 (Windows NT 10.0; Win64; x64) AppleWebKit/537.36 (KHTML, like Gecko) Chrome/58.0.3029.110 Safari/537.3\"\n",
      "104.236.218.124 - - [26/Jun/2023:08:24:29] \"GET /https://www.youtube.com HTTP/1.1\" 200 - \"Mozilla/5.0 (Windows NT 10.0; Win64; x64) AppleWebKit/537.36 (KHTML, like Gecko) Chrome/58.0.3029.110 Safari/537.3\"\n",
      "104.236.218.124 - - [26/Jun/2023:08:24:29] \"GET /https://www.google.com HTTP/1.1\" 200 - \"Mozilla/5.0 (Windows NT 10.0; Win64; x64) AppleWebKit/537.36 (KHTML, like Gecko) Chrome/58.0.3029.110 Safari/537.3\"\n",
      "87.65.43.21 - - [26/Jun/2023:08:24:29] \"GET /https://www.google.com HTTP/1.1\" 200 - \"Mozilla/5.0 (Windows NT 10.0; Win64; x64) AppleWebKit/537.36 (KHTML, like Gecko) Chrome/58.0.3029.110 Safari/537.3\"\n",
      "12.34.56.78 - - [26/Jun/2023:08:24:29] \"GET /https://www.google.com HTTP/1.1\" 200 - \"Mozilla/5.0 (Windows NT 10.0; Win64; x64) AppleWebKit/537.36 (KHTML, like Gecko) Chrome/58.0.3029.110 Safari/537.3\"\n",
      "98.76.54.32 - - [26/Jun/2023:08:24:29] \"GET /https://www.instagram.com HTTP/1.1\" 200 - \"Mozilla/5.0 (Windows NT 10.0; Win64; x64) AppleWebKit/537.36 (KHTML, like Gecko) Chrome/58.0.3029.110 Safari/537.3\"\n",
      "185.199.111.153 - - [26/Jun/2023:08:24:29] \"GET /https://www.amazon.com HTTP/1.1\" 200 - \"Mozilla/5.0 (Windows NT 10.0; Win64; x64) AppleWebKit/537.36 (KHTML, like Gecko) Chrome/58.0.3029.110 Safari/537.3\"\n",
      "203.0.113.42 - - [26/Jun/2023:08:24:29] \"GET /https://www.amazon.com HTTP/1.1\" 200 - \"Mozilla/5.0 (Windows NT 10.0; Win64; x64) AppleWebKit/537.36 (KHTML, like Gecko) Chrome/58.0.3029.110 Safari/537.3\"\n",
      "87.65.43.21 - - [26/Jun/2023:08:24:29] \"GET /https://www.amazon.com HTTP/1.1\" 200 - \"Mozilla/5.0 (Windows NT 10.0; Win64; x64) AppleWebKit/537.36 (KHTML, like Gecko) Chrome/58.0.3029.110 Safari/537.3\"\n",
      "203.0.113.42 - - [26/Jun/2023:08:24:29] \"GET /https://www.github.com HTTP/1.1\" 200 - \"Mozilla/5.0 (Windows NT 10.0; Win64; x64) AppleWebKit/537.36 (KHTML, like Gecko) Chrome/58.0.3029.110 Safari/537.3\"\n",
      "12.34.56.78 - - [26/Jun/2023:08:24:29] \"GET /https://www.github.com HTTP/1.1\" 200 - \"Mozilla/5.0 (Windows NT 10.0; Win64; x64) AppleWebKit/537.36 (KHTML, like Gecko) Chrome/58.0.3029.110 Safari/537.3\"\n",
      "87.65.43.21 - - [26/Jun/2023:08:24:29] \"GET /https://www.instagram.com HTTP/1.1\" 200 - \"Mozilla/5.0 (Windows NT 10.0; Win64; x64) AppleWebKit/537.36 (KHTML, like Gecko) Chrome/58.0.3029.110 Safari/537.3\"\n",
      "123.45.67.89 - - [26/Jun/2023:08:24:29] \"GET /https://www.instagram.com HTTP/1.1\" 200 - \"Mozilla/5.0 (Windows NT 10.0; Win64; x64) AppleWebKit/537.36 (KHTML, like Gecko) Chrome/58.0.3029.110 Safari/537.3\"\n",
      "185.199.111.153 - - [26/Jun/2023:08:24:29] \"GET /https://www.netflix.com HTTP/1.1\" 200 - \"Mozilla/5.0 (Windows NT 10.0; Win64; x64) AppleWebKit/537.36 (KHTML, like Gecko) Chrome/58.0.3029.110 Safari/537.3\"\n",
      "172.217.20.142 - - [26/Jun/2023:08:24:29] \"GET /https://www.facebook.com HTTP/1.1\" 200 - \"Mozilla/5.0 (Windows NT 10.0; Win64; x64) AppleWebKit/537.36 (KHTML, like Gecko) Chrome/58.0.3029.110 Safari/537.3\"\n",
      "104.236.218.124 - - [26/Jun/2023:08:24:29] \"GET /https://www.amazon.com HTTP/1.1\" 200 - \"Mozilla/5.0 (Windows NT 10.0; Win64; x64) AppleWebKit/537.36 (KHTML, like Gecko) Chrome/58.0.3029.110 Safari/537.3\"\n",
      "123.45.67.89 - - [26/Jun/2023:08:24:29] \"GET /https://www.twitter.com HTTP/1.1\" 200 - \"Mozilla/5.0 (Windows NT 10.0; Win64; x64) AppleWebKit/537.36 (KHTML, like Gecko) Chrome/58.0.3029.110 Safari/537.3\"\n",
      "172.217.20.142 - - [26/Jun/2023:08:24:29] \"GET /https://www.amazon.com HTTP/1.1\" 200 - \"Mozilla/5.0 (Windows NT 10.0; Win64; x64) AppleWebKit/537.36 (KHTML, like Gecko) Chrome/58.0.3029.110 Safari/537.3\"\n",
      "87.65.43.21 - - [26/Jun/2023:08:24:29] \"GET /https://www.linkedin.com HTTP/1.1\" 200 - \"Mozilla/5.0 (Windows NT 10.0; Win64; x64) AppleWebKit/537.36 (KHTML, like Gecko) Chrome/58.0.3029.110 Safari/537.3\"\n",
      "185.199.111.153 - - [26/Jun/2023:08:24:29] \"GET /https://www.wikipedia.org HTTP/1.1\" 200 - \"Mozilla/5.0 (Windows NT 10.0; Win64; x64) AppleWebKit/537.36 (KHTML, like Gecko) Chrome/58.0.3029.110 Safari/537.3\"\n",
      "104.236.218.124 - - [26/Jun/2023:08:24:29] \"GET /https://www.google.com HTTP/1.1\" 200 - \"Mozilla/5.0 (Windows NT 10.0; Win64; x64) AppleWebKit/537.36 (KHTML, like Gecko) Chrome/58.0.3029.110 Safari/537.3\"\n",
      "123.45.67.89 - - [26/Jun/2023:08:24:29] \"GET /https://www.github.com HTTP/1.1\" 200 - \"Mozilla/5.0 (Windows NT 10.0; Win64; x64) AppleWebKit/537.36 (KHTML, like Gecko) Chrome/58.0.3029.110 Safari/537.3\"\n",
      "54.32.10.98 - - [26/Jun/2023:08:24:29] \"GET /https://www.google.com HTTP/1.1\" 200 - \"Mozilla/5.0 (Windows NT 10.0; Win64; x64) AppleWebKit/537.36 (KHTML, like Gecko) Chrome/58.0.3029.110 Safari/537.3\"\n",
      "87.65.43.21 - - [26/Jun/2023:08:24:29] \"GET /https://www.twitter.com HTTP/1.1\" 200 - \"Mozilla/5.0 (Windows NT 10.0; Win64; x64) AppleWebKit/537.36 (KHTML, like Gecko) Chrome/58.0.3029.110 Safari/537.3\"\n",
      "12.34.56.78 - - [26/Jun/2023:08:24:29] \"GET /https://www.twitter.com HTTP/1.1\" 200 - \"Mozilla/5.0 (Windows NT 10.0; Win64; x64) AppleWebKit/537.36 (KHTML, like Gecko) Chrome/58.0.3029.110 Safari/537.3\"\n",
      "185.199.111.153 - - [26/Jun/2023:08:24:29] \"GET /https://www.google.com HTTP/1.1\" 200 - \"Mozilla/5.0 (Windows NT 10.0; Win64; x64) AppleWebKit/537.36 (KHTML, like Gecko) Chrome/58.0.3029.110 Safari/537.3\"\n",
      "123.45.67.89 - - [26/Jun/2023:08:24:29] \"GET /https://www.google.com HTTP/1.1\" 200 - \"Mozilla/5.0 (Windows NT 10.0; Win64; x64) AppleWebKit/537.36 (KHTML, like Gecko) Chrome/58.0.3029.110 Safari/537.3\"\n",
      "104.236.218.124 - - [26/Jun/2023:08:24:29] \"GET /https://www.instagram.com HTTP/1.1\" 200 - \"Mozilla/5.0 (Windows NT 10.0; Win64; x64) AppleWebKit/537.36 (KHTML, like Gecko) Chrome/58.0.3029.110 Safari/537.3\"\n",
      "54.32.10.98 - - [26/Jun/2023:08:24:29] \"GET /https://www.netflix.com HTTP/1.1\" 200 - \"Mozilla/5.0 (Windows NT 10.0; Win64; x64) AppleWebKit/537.36 (KHTML, like Gecko) Chrome/58.0.3029.110 Safari/537.3\"\n",
      "98.76.54.32 - - [26/Jun/2023:08:24:29] \"GET /https://www.amazon.com HTTP/1.1\" 200 - \"Mozilla/5.0 (Windows NT 10.0; Win64; x64) AppleWebKit/537.36 (KHTML, like Gecko) Chrome/58.0.3029.110 Safari/537.3\"\n",
      "87.65.43.21 - - [26/Jun/2023:08:24:29] \"GET /https://www.wikipedia.org HTTP/1.1\" 200 - \"Mozilla/5.0 (Windows NT 10.0; Win64; x64) AppleWebKit/537.36 (KHTML, like Gecko) Chrome/58.0.3029.110 Safari/537.3\"\n",
      "172.217.20.142 - - [26/Jun/2023:08:24:29] \"GET /https://www.facebook.com HTTP/1.1\" 200 - \"Mozilla/5.0 (Windows NT 10.0; Win64; x64) AppleWebKit/537.36 (KHTML, like Gecko) Chrome/58.0.3029.110 Safari/537.3\"\n",
      "54.32.10.98 - - [26/Jun/2023:08:24:29] \"GET /https://www.google.com HTTP/1.1\" 200 - \"Mozilla/5.0 (Windows NT 10.0; Win64; x64) AppleWebKit/537.36 (KHTML, like Gecko) Chrome/58.0.3029.110 Safari/537.3\"\n",
      "72.21.215.90 - - [26/Jun/2023:08:24:29] \"GET /https://www.wikipedia.org HTTP/1.1\" 200 - \"Mozilla/5.0 (Windows NT 10.0; Win64; x64) AppleWebKit/537.36 (KHTML, like Gecko) Chrome/58.0.3029.110 Safari/537.3\"\n",
      "54.32.10.98 - - [26/Jun/2023:08:24:29] \"GET /https://www.youtube.com HTTP/1.1\" 200 - \"Mozilla/5.0 (Windows NT 10.0; Win64; x64) AppleWebKit/537.36 (KHTML, like Gecko) Chrome/58.0.3029.110 Safari/537.3\"\n"
     ]
    }
   ],
   "source": [
    "# načtení logů ze souboru\n",
    "file_path = 'access.log'\n",
    "\n",
    "with open(file_path, 'r') as file:\n",
    "    logs = file.readlines()\n",
    "\n",
    "#Výpis dat\n",
    "for line in logs:\n",
    " print(line.strip())"
   ]
  },
  {
   "cell_type": "code",
   "execution_count": 59,
   "id": "hungry-status",
   "metadata": {},
   "outputs": [],
   "source": [
    "# Získání seznamu IP adres a URL adres stránek z webových logů\n",
    "ip_addresses = [log.split()[0] for log in logs]\n",
    "urls = [log.split()[5] for log in logs]"
   ]
  },
  {
   "cell_type": "code",
   "execution_count": 60,
   "id": "competent-bennett",
   "metadata": {},
   "outputs": [],
   "source": [
    "# Výpočet počtu výskytů jednotlivých stránek\n",
    "popularity_counter = Counter(urls)"
   ]
  },
  {
   "cell_type": "code",
   "execution_count": 61,
   "id": "direct-vermont",
   "metadata": {},
   "outputs": [
    {
     "name": "stdout",
     "output_type": "stream",
     "text": [
      "Kontingenční tabulka:\n",
      "IP adresa                   104.236.218.124  12.34.56.78  123.45.67.89  \\\n",
      "URL adresa                                                               \n",
      "/https://www.amazon.com                   1            0             0   \n",
      "/https://www.facebook.com                 1            1             2   \n",
      "/https://www.github.com                   1            1             1   \n",
      "/https://www.google.com                   3            3             1   \n",
      "/https://www.instagram.com                2            0             2   \n",
      "/https://www.linkedin.com                 0            0             0   \n",
      "/https://www.netflix.com                  1            0             0   \n",
      "/https://www.twitter.com                  0            3             2   \n",
      "/https://www.wikipedia.org                0            0             0   \n",
      "/https://www.youtube.com                  3            1             0   \n",
      "\n",
      "IP adresa                   172.217.20.142  185.199.111.153  203.0.113.42  \\\n",
      "URL adresa                                                                  \n",
      "/https://www.amazon.com                  1                2             1   \n",
      "/https://www.facebook.com                2                0             1   \n",
      "/https://www.github.com                  2                0             2   \n",
      "/https://www.google.com                  0                2             0   \n",
      "/https://www.instagram.com               1                1             2   \n",
      "/https://www.linkedin.com                1                1             1   \n",
      "/https://www.netflix.com                 2                1             0   \n",
      "/https://www.twitter.com                 2                2             1   \n",
      "/https://www.wikipedia.org               0                1             1   \n",
      "/https://www.youtube.com                 0                2             0   \n",
      "\n",
      "IP adresa                   54.32.10.98  72.21.215.90  87.65.43.21  \\\n",
      "URL adresa                                                           \n",
      "/https://www.amazon.com               1             1            1   \n",
      "/https://www.facebook.com             1             0            1   \n",
      "/https://www.github.com               0             1            1   \n",
      "/https://www.google.com               4             0            2   \n",
      "/https://www.instagram.com            0             1            2   \n",
      "/https://www.linkedin.com             1             1            1   \n",
      "/https://www.netflix.com              1             0            1   \n",
      "/https://www.twitter.com              1             0            2   \n",
      "/https://www.wikipedia.org            0             2            1   \n",
      "/https://www.youtube.com              2             0            0   \n",
      "\n",
      "IP adresa                   98.76.54.32  \n",
      "URL adresa                               \n",
      "/https://www.amazon.com               1  \n",
      "/https://www.facebook.com             0  \n",
      "/https://www.github.com               1  \n",
      "/https://www.google.com               0  \n",
      "/https://www.instagram.com            3  \n",
      "/https://www.linkedin.com             0  \n",
      "/https://www.netflix.com              1  \n",
      "/https://www.twitter.com              3  \n",
      "/https://www.wikipedia.org            0  \n",
      "/https://www.youtube.com              0  \n"
     ]
    }
   ],
   "source": [
    "# vytvoření kontingenční tabulky\n",
    "df = pd.DataFrame({'URL adresa': urls, 'IP adresa': ip_addresses})\n",
    "\n",
    "# počet přístupů na jednotlivé stránky z různých IP adres\n",
    "contingency_table = pd.crosstab(df['URL adresa'], df['IP adresa']) #dva sloupce \n",
    "\n",
    "# výpis kontingenční tabulky\n",
    "print(\"Kontingenční tabulka:\")\n",
    "print(contingency_table)"
   ]
  },
  {
   "cell_type": "code",
   "execution_count": 62,
   "id": "civic-ready",
   "metadata": {},
   "outputs": [
    {
     "name": "stdout",
     "output_type": "stream",
     "text": [
      "Nejnavštěvovanější stránky:\n",
      "/https://www.twitter.com: 16 přístupů\n",
      "/https://www.google.com: 15 přístupů\n",
      "/https://www.instagram.com: 14 přístupů\n",
      "/https://www.github.com: 10 přístupů\n",
      "/https://www.facebook.com: 9 přístupů\n"
     ]
    }
   ],
   "source": [
    "# Výpis nejnavštěvovanějších stránek\n",
    "most_visited = popularity_counter.most_common(5)\n",
    "most_visited_urls, most_visited_counts = zip(*most_visited) #zip = iterátor - *most_visited - rozbaleni jednotlivych url\n",
    "print(\"Nejnavštěvovanější stránky:\")\n",
    "for (urls), count in most_visited:\n",
    "    print(f\"{urls}: {count} přístupů\")"
   ]
  },
  {
   "cell_type": "code",
   "execution_count": 63,
   "id": "surface-retro",
   "metadata": {},
   "outputs": [
    {
     "name": "stdout",
     "output_type": "stream",
     "text": [
      "Méně populární stránky:\n",
      "/https://www.wikipedia.org: 5 přístupů\n",
      "/https://www.linkedin.com: 6 přístupů\n",
      "/https://www.netflix.com: 7 přístupů\n"
     ]
    }
   ],
   "source": [
    "# Výpis méně populárních stránek\n",
    "less_visited = popularity_counter.most_common()[:-4:-1] #vybíra se od posledního prvku do šestého od konce (-1 zanmená opačné pořadí)\n",
    "less_visited_urls, less_visited_counts = zip(*less_visited) #zip = iterátor - *less_visited - rozbaleni jednotlivych url\n",
    "print(\"Méně populární stránky:\")\n",
    "for (urls), count in less_visited:\n",
    "    print(f\"{urls}: {count} přístupů\")"
   ]
  },
  {
   "cell_type": "code",
   "execution_count": 64,
   "id": "visible-february",
   "metadata": {},
   "outputs": [
    {
     "data": {
      "text/plain": [
       "([0, 1, 2, 3, 4],\n",
       " [Text(0, 0, ''),\n",
       "  Text(0, 0, ''),\n",
       "  Text(0, 0, ''),\n",
       "  Text(0, 0, ''),\n",
       "  Text(0, 0, '')])"
      ]
     },
     "execution_count": 64,
     "metadata": {},
     "output_type": "execute_result"
    },
    {
     "data": {
      "image/png": "[encoded data removed]",
      "text/plain": [
       "<Figure size 1440x864 with 1 Axes>"
      ]
     },
     "metadata": {
      "needs_background": "light"
     },
     "output_type": "display_data"
    }
   ],
   "source": [
    "plt.figure(figsize=(20, 12))\n",
    "\n",
    "# Nejnavštěvovanější stránky\n",
    "plt.subplot(3, 2, 2)          #mřížka s 3 řádky a 2 sloupci subgrafů a vybraný je subgraf s indexem 2\n",
    "plt.bar(most_visited_urls, most_visited_counts) # osa X a Y \n",
    "plt.title('Populární stránky')\n",
    "plt.xlabel('URL')\n",
    "plt.ylabel('Počet přístupů')\n",
    "plt.xticks(rotation=45)"
   ]
  },
  {
   "cell_type": "code",
   "execution_count": 65,
   "id": "pressing-building",
   "metadata": {},
   "outputs": [
    {
     "data": {
      "text/plain": [
       "([0, 1, 2], [Text(0, 0, ''), Text(0, 0, ''), Text(0, 0, '')])"
      ]
     },
     "execution_count": 65,
     "metadata": {},
     "output_type": "execute_result"
    },
    {
     "data": {
      "image/png": "[encoded data removed]",
      "text/plain": [
       "<Figure size 432x288 with 1 Axes>"
      ]
     },
     "metadata": {
      "needs_background": "light"
     },
     "output_type": "display_data"
    }
   ],
   "source": [
    "# Méně navštěvované stránky\n",
    "plt.subplot(2, 1, 2)\n",
    "plt.bar(less_visited_urls, less_visited_counts)\n",
    "plt.title('Méně populární stránky')\n",
    "plt.xlabel('URL')\n",
    "plt.ylabel('Počet přístupů')\n",
    "plt.xticks(rotation=45)"
   ]
  }
 ],
 "metadata": {
  "kernelspec": {
   "display_name": "Python 3",
   "language": "python",
   "name": "python3"
  },
  "language_info": {
   "codemirror_mode": {
    "name": "ipython",
    "version": 3
   },
   "file_extension": ".py",
   "mimetype": "text/x-python",
   "name": "python",
   "nbconvert_exporter": "python",
   "pygments_lexer": "ipython3",
   "version": "3.8.8"
  }
 },
 "nbformat": 4,
 "nbformat_minor": 5
}
